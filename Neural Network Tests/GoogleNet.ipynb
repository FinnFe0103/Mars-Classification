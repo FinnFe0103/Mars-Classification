{
 "cells": [
  {
   "cell_type": "code",
   "execution_count": null,
   "metadata": {},
   "outputs": [],
   "source": [
    "import pandas as pd"
   ]
  },
  {
   "cell_type": "code",
   "execution_count": null,
   "metadata": {},
   "outputs": [],
   "source": [
    "df = pd.read_csv(\"OVER_train_augmented.csv\")\n",
    "df.head()"
   ]
  },
  {
   "attachments": {},
   "cell_type": "markdown",
   "metadata": {},
   "source": [
    "# GoogLeNet"
   ]
  },
  {
   "cell_type": "code",
   "execution_count": null,
   "metadata": {},
   "outputs": [],
   "source": [
    "# Import necessary modules\n",
    "from keras.optimizers import Adam\n",
    "from keras.losses import CategoricalCrossentropy\n",
    "from keras.metrics import CategoricalAccuracy\n",
    "from tensorflow.keras.models import Model\n",
    "from tensorflow.keras.layers import Conv2D, MaxPooling2D, Input, Dense, Dropout, Flatten, concatenate, AveragePooling2D\n"
   ]
  },
  {
   "cell_type": "code",
   "execution_count": null,
   "metadata": {},
   "outputs": [],
   "source": [
    "def inception_module(x, filters_1x1, filters_3x3_reduce, filters_3x3, filters_5x5_reduce, filters_5x5, filters_pool_proj):\n",
    "    path1 = Conv2D(filters_1x1, (1, 1), padding='same', activation='relu')(x)\n",
    "    path2 = Conv2D(filters_3x3_reduce, (1, 1), padding='same', activation='relu')(x)\n",
    "    path2 = Conv2D(filters_3x3, (3, 3), padding='same', activation='relu')(path2)\n",
    "    path3 = Conv2D(filters_5x5_reduce, (1, 1), padding='same', activation='relu')(x)\n",
    "    path3 = Conv2D(filters_5x5, (5, 5), padding='same', activation='relu')(path3)\n",
    "    path4 = MaxPooling2D((3, 3), strides=(1, 1), padding='same')(x)\n",
    "    path4 = Conv2D(filters_pool_proj, (1, 1), padding='same', activation='relu')(path4)\n",
    "    return concatenate([path1, path2, path3, path4], axis=-1)\n",
    "\n",
    "def create_google_model():\n",
    "    input_layer = Input(shape=(227, 227, 3))\n",
    "\n",
    "    x = Conv2D(64, (7, 7), strides=(2, 2), padding='same', activation='relu')(input_layer)\n",
    "    x = MaxPooling2D(pool_size=(3, 3), strides=(2, 2), padding='same')(x)\n",
    "    x = Conv2D(64, (1, 1), strides=(1, 1), padding='same', activation='relu')(x)\n",
    "    x = Conv2D(192, (3, 3), strides=(1, 1), padding='same', activation='relu')(x)\n",
    "    x = MaxPooling2D(pool_size=(3, 3), strides=(2, 2), padding='same')(x)\n",
    "    x = inception_module(x, 64, 96, 128, 16, 32, 32)\n",
    "    x = inception_module(x, 128, 128, 192, 32, 96, 64)\n",
    "    x = MaxPooling2D(pool_size=(3, 3), strides=(2, 2), padding='same')(x)\n",
    "    x = inception_module(x, 192, 96, 208, 16, 48, 64)\n",
    "    x = inception_module(x, 160, 112, 224, 24, 64, 64)\n",
    "    x = inception_module(x, 128, 128, 256, 24, 64, 64)\n",
    "    x = inception_module(x, 112, 144, 288, 32, 64, 64)\n",
    "    x = inception_module(x, 256, 160, 320, 32, 128, 128)\n",
    "    x = MaxPooling2D(pool_size=(3, 3), strides=(2, 2), padding='same')(x)\n",
    "    x = inception_module(x, 256, 160, 320, 32, 128, 128)\n",
    "    x = inception_module(x, 384, 192, 384, 48, 128, 128)\n",
    "\n",
    "    x = AveragePooling2D(pool_size=(7, 7), strides=(1, 1), padding='valid')(x)\n",
    "    x = Dropout(0.4)(x)\n",
    "    x = Flatten()(x)\n",
    "    x = Dense(1000, activation='relu')(x)\n",
    "    output_layer = Dense(8, activation='softmax')(x)\n",
    "\n",
    "    # Define the model\n",
    "    model_googlenet = Model(input_layer, output_layer)\n",
    "\n",
    "    # Return the model\n",
    "    return model_googlenet"
   ]
  },
  {
   "attachments": {},
   "cell_type": "markdown",
   "metadata": {},
   "source": [
    "ChatGPT for application "
   ]
  },
  {
   "cell_type": "code",
   "execution_count": null,
   "metadata": {},
   "outputs": [
    {
     "ename": "NameError",
     "evalue": "name 'create_model' is not defined",
     "output_type": "error",
     "traceback": [
      "\u001b[0;31m---------------------------------------------------------------------------\u001b[0m\n",
      "\u001b[0;31mNameError\u001b[0m                                 Traceback (most recent call last)\n",
      "Cell \u001b[0;32mIn[39], line 2\u001b[0m\n",
      "\u001b[1;32m      1\u001b[0m \u001b[39m# Create your model\u001b[39;00m\n",
      "\u001b[0;32m----> 2\u001b[0m model_google \u001b[39m=\u001b[39m create_model()\n",
      "\u001b[1;32m      4\u001b[0m \u001b[39m# Compile the model\u001b[39;00m\n",
      "\u001b[1;32m      5\u001b[0m optimizer \u001b[39m=\u001b[39m Adam(learning_rate\u001b[39m=\u001b[39m\u001b[39m0.001\u001b[39m)\n",
      "\n",
      "\u001b[0;31mNameError\u001b[0m: name 'create_model' is not defined"
     ]
    }
   ],
   "source": [
    "# Create your model\n",
    "model_google = create_model()\n",
    "\n",
    "# Compile the model\n",
    "optimizer = Adam(learning_rate=0.001)\n",
    "loss = CategoricalCrossentropy()\n",
    "metrics = [CategoricalAccuracy()]\n",
    "\n",
    "model.compile(optimizer=optimizer, loss=loss, metrics=metrics)\n",
    "\n",
    "# Fit the model to the training data\n",
    "log = model.fit(X_train, y_train, epochs=10, validation_data=(X_val, y_val))\n",
    "\n",
    "# Evaluate the model on the test data\n",
    "model.evaluate(X_test, y_test)\n",
    "\n",
    "# Use the model to make predictions\n",
    "predictions = model.predict(X_new)\n",
    "\n",
    "# If your task is multi-class classification, you can get the class with the highest probability\n",
    "import numpy as np\n",
    "class_predictions = np.argmax(predictions, axis=-1)"
   ]
  },
  {
   "attachments": {},
   "cell_type": "markdown",
   "metadata": {},
   "source": [
    "random search + training the model"
   ]
  },
  {
   "cell_type": "code",
   "execution_count": null,
   "metadata": {},
   "outputs": [
    {
     "name": "stderr",
     "output_type": "stream",
     "text": [
      "/var/folders/6s/hmlg0x1n07x_fl9blny_v37r0000gn/T/ipykernel_25108/202071377.py:15: DeprecationWarning: KerasClassifier is deprecated, use Sci-Keras (https://github.com/adriangb/scikeras) instead. See https://www.adriangb.com/scikeras/stable/migration.html for help migrating.\n",
      "  random_search = RandomizedSearchCV(estimator=KerasClassifier(build_fn=create_google_model, verbose=0),\n"
     ]
    },
    {
     "name": "stdout",
     "output_type": "stream",
     "text": [
      "Fitting 3 folds for each of 10 candidates, totalling 30 fits\n"
     ]
    },
    {
     "name": "stderr",
     "output_type": "stream",
     "text": [
      "\n",
      "KeyboardInterrupt\n",
      "\n"
     ]
    }
   ],
   "source": [
    "# sklearn random serach function for a neural network\n",
    "param_grid = {\"optimizer\": [\"adam\", \"sgd\", \"rmsprop\"],\n",
    "                \"learning_rate\": [0.001, 0.01, 0.1],\n",
    "                \"momentum\": [0.0, 0.2, 0.4, 0.6, 0.8, 0.9],\n",
    "                \"epochs\": [10, 20, 30, 40, 50],\n",
    "                \"batch_size\": [10, 20, 30, 40, 50],\n",
    "                \"activation\": [\"relu\", \"sigmoid\", \"tanh\"],\n",
    "                \"dropout_rate\": [0.0, 0.1, 0.2, 0.3, 0.4, 0.5],\n",
    "                \"weight_constraint\": [1, 2, 3, 4, 5],\n",
    "                \n",
    "                \"neurons\": [1, 5, 10, 15, 20, 25, 30]}\n",
    "\n",
    "def random_search(X_train, y_train, X_test, y_test, param_grid, n_iter_search=10, n_jobs=-1, cv=3, verbose=1, random_state=1): \n",
    "    # create a random search object\n",
    "    random_search = RandomizedSearchCV(estimator=KerasClassifier(build_fn=create_google_model, verbose=0), \n",
    "                                        param_distributions=param_grid,\n",
    "                                        n_iter=n_iter_search,\n",
    "                                        n_jobs=n_jobs,\n",
    "                                        cv=cv,\n",
    "                                        verbose=verbose,\n",
    "                                        random_state=random_state)\n",
    "    # fit the random search model\n",
    "    random_search.fit(X_train, y_train)\n",
    "    # print results\n",
    "    print(\"Best Score: \", random_search.best_score_)\n",
    "    print(\"Best Params: \", random_search.best_params_)\n",
    "    # evaluate the model on test data\n",
    "    print(\"Test Accuracy: \", random_search.score(X_test, y_test))\n",
    "    return random_search\n",
    "\n",
    "random_search(X_train, y_train, X_test, y_test, param_grid)"
   ]
  }
 ],
 "metadata": {
  "language_info": {
   "name": "python"
  },
  "orig_nbformat": 4
 },
 "nbformat": 4,
 "nbformat_minor": 2
}
