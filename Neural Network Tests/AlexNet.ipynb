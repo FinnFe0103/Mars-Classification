{
 "cells": [
  {
   "cell_type": "code",
   "execution_count": 3,
   "metadata": {},
   "outputs": [
    {
     "name": "stderr",
     "output_type": "stream",
     "text": [
      "2023-05-15 10:46:32.949487: I tensorflow/core/platform/cpu_feature_guard.cc:182] This TensorFlow binary is optimized to use available CPU instructions in performance-critical operations.\n",
      "To enable the following instructions: AVX2 FMA, in other operations, rebuild TensorFlow with the appropriate compiler flags.\n"
     ]
    }
   ],
   "source": [
    "import pandas as pd\n",
    "import numpy as np\n",
    "import matplotlib.pyplot as plt\n",
    "from tensorflow import keras\n",
    "from tensorflow.keras import layers\n",
    "#from scikeras.wrappers import KerasClassifier\n",
    "from sklearn.model_selection import RandomizedSearchCV\n",
    "from tensorflow.keras.callbacks import EarlyStopping"
   ]
  },
  {
   "cell_type": "code",
   "execution_count": 2,
   "metadata": {},
   "outputs": [
    {
     "name": "stdout",
     "output_type": "stream",
     "text": [
      "(1000, 51530)\n"
     ]
    },
    {
     "data": {
      "text/html": [
       "<div>\n",
       "<style scoped>\n",
       "    .dataframe tbody tr th:only-of-type {\n",
       "        vertical-align: middle;\n",
       "    }\n",
       "\n",
       "    .dataframe tbody tr th {\n",
       "        vertical-align: top;\n",
       "    }\n",
       "\n",
       "    .dataframe thead th {\n",
       "        text-align: right;\n",
       "    }\n",
       "</style>\n",
       "<table border=\"1\" class=\"dataframe\">\n",
       "  <thead>\n",
       "    <tr style=\"text-align: right;\">\n",
       "      <th></th>\n",
       "      <th>0</th>\n",
       "      <th>1</th>\n",
       "      <th>2</th>\n",
       "      <th>3</th>\n",
       "      <th>4</th>\n",
       "      <th>5</th>\n",
       "      <th>6</th>\n",
       "      <th>7</th>\n",
       "      <th>8</th>\n",
       "      <th>9</th>\n",
       "      <th>...</th>\n",
       "      <th>51520</th>\n",
       "      <th>51521</th>\n",
       "      <th>51522</th>\n",
       "      <th>51523</th>\n",
       "      <th>51524</th>\n",
       "      <th>51525</th>\n",
       "      <th>51526</th>\n",
       "      <th>51527</th>\n",
       "      <th>51528</th>\n",
       "      <th>label</th>\n",
       "    </tr>\n",
       "  </thead>\n",
       "  <tbody>\n",
       "    <tr>\n",
       "      <th>0</th>\n",
       "      <td>0.254902</td>\n",
       "      <td>0.250980</td>\n",
       "      <td>0.247059</td>\n",
       "      <td>0.247059</td>\n",
       "      <td>0.247059</td>\n",
       "      <td>0.247059</td>\n",
       "      <td>0.250980</td>\n",
       "      <td>0.254902</td>\n",
       "      <td>0.262745</td>\n",
       "      <td>0.274510</td>\n",
       "      <td>...</td>\n",
       "      <td>0.227451</td>\n",
       "      <td>0.223529</td>\n",
       "      <td>0.223529</td>\n",
       "      <td>0.223529</td>\n",
       "      <td>0.223529</td>\n",
       "      <td>0.223529</td>\n",
       "      <td>0.223529</td>\n",
       "      <td>0.223529</td>\n",
       "      <td>0.219608</td>\n",
       "      <td>2.0</td>\n",
       "    </tr>\n",
       "    <tr>\n",
       "      <th>1</th>\n",
       "      <td>0.592157</td>\n",
       "      <td>0.592157</td>\n",
       "      <td>0.592157</td>\n",
       "      <td>0.596078</td>\n",
       "      <td>0.600000</td>\n",
       "      <td>0.600000</td>\n",
       "      <td>0.596078</td>\n",
       "      <td>0.592157</td>\n",
       "      <td>0.596078</td>\n",
       "      <td>0.592157</td>\n",
       "      <td>...</td>\n",
       "      <td>0.603922</td>\n",
       "      <td>0.611765</td>\n",
       "      <td>0.619608</td>\n",
       "      <td>0.623529</td>\n",
       "      <td>0.623529</td>\n",
       "      <td>0.627451</td>\n",
       "      <td>0.627451</td>\n",
       "      <td>0.619608</td>\n",
       "      <td>0.615686</td>\n",
       "      <td>0.0</td>\n",
       "    </tr>\n",
       "    <tr>\n",
       "      <th>2</th>\n",
       "      <td>0.572549</td>\n",
       "      <td>0.564706</td>\n",
       "      <td>0.552941</td>\n",
       "      <td>0.537255</td>\n",
       "      <td>0.517647</td>\n",
       "      <td>0.501961</td>\n",
       "      <td>0.494118</td>\n",
       "      <td>0.490196</td>\n",
       "      <td>0.509804</td>\n",
       "      <td>0.533333</td>\n",
       "      <td>...</td>\n",
       "      <td>0.556863</td>\n",
       "      <td>0.568627</td>\n",
       "      <td>0.568627</td>\n",
       "      <td>0.564706</td>\n",
       "      <td>0.572549</td>\n",
       "      <td>0.580392</td>\n",
       "      <td>0.568627</td>\n",
       "      <td>0.545098</td>\n",
       "      <td>0.529412</td>\n",
       "      <td>4.0</td>\n",
       "    </tr>\n",
       "    <tr>\n",
       "      <th>3</th>\n",
       "      <td>0.670588</td>\n",
       "      <td>0.662745</td>\n",
       "      <td>0.635294</td>\n",
       "      <td>0.627451</td>\n",
       "      <td>0.682353</td>\n",
       "      <td>0.678431</td>\n",
       "      <td>0.631373</td>\n",
       "      <td>0.654902</td>\n",
       "      <td>0.560784</td>\n",
       "      <td>0.494118</td>\n",
       "      <td>...</td>\n",
       "      <td>0.000000</td>\n",
       "      <td>0.000000</td>\n",
       "      <td>0.000000</td>\n",
       "      <td>0.000000</td>\n",
       "      <td>0.000000</td>\n",
       "      <td>0.000000</td>\n",
       "      <td>0.000000</td>\n",
       "      <td>0.000000</td>\n",
       "      <td>0.000000</td>\n",
       "      <td>2.0</td>\n",
       "    </tr>\n",
       "    <tr>\n",
       "      <th>4</th>\n",
       "      <td>0.541176</td>\n",
       "      <td>0.572549</td>\n",
       "      <td>0.556863</td>\n",
       "      <td>0.552941</td>\n",
       "      <td>0.631373</td>\n",
       "      <td>0.635294</td>\n",
       "      <td>0.596078</td>\n",
       "      <td>0.576471</td>\n",
       "      <td>0.584314</td>\n",
       "      <td>0.635294</td>\n",
       "      <td>...</td>\n",
       "      <td>0.584314</td>\n",
       "      <td>0.596078</td>\n",
       "      <td>0.576471</td>\n",
       "      <td>0.521569</td>\n",
       "      <td>0.509804</td>\n",
       "      <td>0.568627</td>\n",
       "      <td>0.611765</td>\n",
       "      <td>0.623529</td>\n",
       "      <td>0.580392</td>\n",
       "      <td>0.0</td>\n",
       "    </tr>\n",
       "  </tbody>\n",
       "</table>\n",
       "<p>5 rows × 51530 columns</p>\n",
       "</div>"
      ],
      "text/plain": [
       "          0         1         2         3         4         5         6   \n",
       "0  0.254902  0.250980  0.247059  0.247059  0.247059  0.247059  0.250980  \\\n",
       "1  0.592157  0.592157  0.592157  0.596078  0.600000  0.600000  0.596078   \n",
       "2  0.572549  0.564706  0.552941  0.537255  0.517647  0.501961  0.494118   \n",
       "3  0.670588  0.662745  0.635294  0.627451  0.682353  0.678431  0.631373   \n",
       "4  0.541176  0.572549  0.556863  0.552941  0.631373  0.635294  0.596078   \n",
       "\n",
       "          7         8         9  ...     51520     51521     51522     51523   \n",
       "0  0.254902  0.262745  0.274510  ...  0.227451  0.223529  0.223529  0.223529  \\\n",
       "1  0.592157  0.596078  0.592157  ...  0.603922  0.611765  0.619608  0.623529   \n",
       "2  0.490196  0.509804  0.533333  ...  0.556863  0.568627  0.568627  0.564706   \n",
       "3  0.654902  0.560784  0.494118  ...  0.000000  0.000000  0.000000  0.000000   \n",
       "4  0.576471  0.584314  0.635294  ...  0.584314  0.596078  0.576471  0.521569   \n",
       "\n",
       "      51524     51525     51526     51527     51528  label  \n",
       "0  0.223529  0.223529  0.223529  0.223529  0.219608    2.0  \n",
       "1  0.623529  0.627451  0.627451  0.619608  0.615686    0.0  \n",
       "2  0.572549  0.580392  0.568627  0.545098  0.529412    4.0  \n",
       "3  0.000000  0.000000  0.000000  0.000000  0.000000    2.0  \n",
       "4  0.509804  0.568627  0.611765  0.623529  0.580392    0.0  \n",
       "\n",
       "[5 rows x 51530 columns]"
      ]
     },
     "execution_count": 2,
     "metadata": {},
     "output_type": "execute_result"
    }
   ],
   "source": [
    "df = pd.read_csv(\"ADAYN_train_augmented.csv\")\n",
    "print(df.shape)\n",
    "df.head()"
   ]
  },
  {
   "cell_type": "code",
   "execution_count": 3,
   "metadata": {},
   "outputs": [
    {
     "name": "stdout",
     "output_type": "stream",
     "text": [
      "(1000,)\n",
      "(1000, 227, 227)\n"
     ]
    }
   ],
   "source": [
    "y_train = np.array(df[\"label\"])\n",
    "X_train = np.array(df.drop(columns=[\"label\"])).reshape(-1, 227, 227)\n",
    "print(y_train.shape)\n",
    "print(X_train.shape)"
   ]
  },
  {
   "attachments": {},
   "cell_type": "markdown",
   "metadata": {},
   "source": [
    "# 7. Apply Networks"
   ]
  },
  {
   "attachments": {},
   "cell_type": "markdown",
   "metadata": {},
   "source": [
    "# 7.1 AlexNet"
   ]
  },
  {
   "attachments": {},
   "cell_type": "markdown",
   "metadata": {},
   "source": [
    "clear"
   ]
  },
  {
   "cell_type": "code",
   "execution_count": 4,
   "metadata": {},
   "outputs": [],
   "source": [
    "keras.backend.clear_session() # clear any previous models"
   ]
  },
  {
   "attachments": {},
   "cell_type": "markdown",
   "metadata": {},
   "source": [
    "build model"
   ]
  },
  {
   "cell_type": "code",
   "execution_count": 4,
   "metadata": {},
   "outputs": [],
   "source": [
    "model = keras.Sequential()\n",
    "    \n",
    "model.add(keras.layers.Conv2D(96, (11, 11), strides=(4, 4), padding='valid', activation='relu', input_shape=(227, 227, 1))) # layer that convolves the input image with 96 different filters that are 11x11 pixels in size\n",
    "model.add(keras.layers.MaxPooling2D(pool_size=(3, 3), strides=(2, 2), padding='valid')) # layer that downsamples the input representation by taking the maximum value over the window defined by pool_size for each dimension along the features axis\n",
    "model.add(keras.layers.Conv2D(256, (5, 5), strides=(1, 1), padding='same', activation='relu')) # layer that convolves the input image with 256 different filters that are 5x5 pixels in size\n",
    "model.add(keras.layers.MaxPooling2D(pool_size=(3, 3), strides=(2, 2), padding='valid')) # layer that downsamples the input representation by taking the maximum value over the window defined by pool_size for each dimension along the features axis\n",
    "model.add(keras.layers.Conv2D(384, (3, 3), strides=(1, 1), padding='same', activation='relu')) # layer that convolves the input image with 384 different filters that are 3x3 pixels in size\n",
    "model.add(keras.layers.Conv2D(384, (3, 3), strides=(1, 1), padding='same', activation='relu')) # layer that convolves the input image with 384 different filters that are 3x3 pixels in size\n",
    "model.add(keras.layers.Conv2D(384, (3, 3), strides=(1, 1), padding='same', activation='relu')) # layer that convolves the input image with 384 different filters that are 3x3 pixels in size\n",
    "model.add(keras.layers.Dense(4096, activation='relu')) # layer with 4096 neurons that uses the ReLU activation function and is fully connected\n",
    "model.add(keras.layers.Flatten()) # layer that flattens the input\n",
    "model.add(keras.layers.Dropout(0.5)) # layer that randomly sets input units to 0 with a 50% frequency at each step during training time, which helps prevent overfitting\n",
    "model.add(keras.layers.Dense(4096, activation='relu')) # layer with 4096 neurons that uses the ReLU activation function and is fully connected\n",
    "model.add(keras.layers.Dropout(0.5)) # layer that randomly sets input units to 0 with a 50% frequency at each step during training time, which helps prevent overfitting\n",
    "model.add(keras.layers.Dense(8, activation='softmax')) # layer with 8 neurons that uses the softmax activation function to output probabilities for each class"
   ]
  },
  {
   "cell_type": "code",
   "execution_count": 5,
   "metadata": {},
   "outputs": [
    {
     "name": "stdout",
     "output_type": "stream",
     "text": [
      "Model: \"sequential\"\n",
      "_________________________________________________________________\n",
      " Layer (type)                Output Shape              Param #   \n",
      "=================================================================\n",
      " conv2d (Conv2D)             (None, 55, 55, 96)        11712     \n",
      "                                                                 \n",
      " conv2d_1 (Conv2D)           (None, 12, 12, 96)        1115232   \n",
      "                                                                 \n",
      " max_pooling2d (MaxPooling2D  (None, 5, 5, 96)         0         \n",
      " )                                                               \n",
      "                                                                 \n",
      " conv2d_2 (Conv2D)           (None, 5, 5, 256)         614656    \n",
      "                                                                 \n",
      " max_pooling2d_1 (MaxPooling  (None, 2, 2, 256)        0         \n",
      " 2D)                                                             \n",
      "                                                                 \n",
      " conv2d_3 (Conv2D)           (None, 2, 2, 384)         885120    \n",
      "                                                                 \n",
      " conv2d_4 (Conv2D)           (None, 2, 2, 384)         1327488   \n",
      "                                                                 \n",
      " conv2d_5 (Conv2D)           (None, 2, 2, 384)         1327488   \n",
      "                                                                 \n",
      " dense (Dense)               (None, 2, 2, 4096)        1576960   \n",
      "                                                                 \n",
      " flatten (Flatten)           (None, 16384)             0         \n",
      "                                                                 \n",
      " dropout (Dropout)           (None, 16384)             0         \n",
      "                                                                 \n",
      " dense_1 (Dense)             (None, 4096)              67112960  \n",
      "                                                                 \n",
      " dropout_1 (Dropout)         (None, 4096)              0         \n",
      "                                                                 \n",
      " dense_2 (Dense)             (None, 8)                 32776     \n",
      "                                                                 \n",
      "=================================================================\n",
      "Total params: 74,004,392\n",
      "Trainable params: 74,004,392\n",
      "Non-trainable params: 0\n",
      "_________________________________________________________________\n"
     ]
    }
   ],
   "source": [
    "model.summary()"
   ]
  },
  {
   "cell_type": "code",
   "execution_count": 6,
   "metadata": {},
   "outputs": [
    {
     "name": "stdout",
     "output_type": "stream",
     "text": [
      "Epoch 1/10\n",
      "25/25 [==============================] - 36s 1s/step - loss: 2.0544 - accuracy: 0.3113 - val_loss: 2.0394 - val_accuracy: 0.2450\n",
      "Epoch 2/10\n",
      "25/25 [==============================] - 34s 1s/step - loss: 2.0042 - accuracy: 0.3425 - val_loss: 2.0031 - val_accuracy: 0.2450\n",
      "Epoch 3/10\n",
      "25/25 [==============================] - 27s 1s/step - loss: 1.9566 - accuracy: 0.3425 - val_loss: 1.9702 - val_accuracy: 0.2450\n",
      "Epoch 4/10\n",
      "25/25 [==============================] - 28s 1s/step - loss: 1.9109 - accuracy: 0.3425 - val_loss: 1.9401 - val_accuracy: 0.2450\n",
      "Epoch 5/10\n",
      "25/25 [==============================] - 29s 1s/step - loss: 1.8695 - accuracy: 0.3425 - val_loss: 1.9138 - val_accuracy: 0.2450\n",
      "Epoch 6/10\n",
      "25/25 [==============================] - 25s 1s/step - loss: 1.8285 - accuracy: 0.3425 - val_loss: 1.8920 - val_accuracy: 0.2450\n",
      "Epoch 7/10\n",
      "25/25 [==============================] - 27s 1s/step - loss: 1.7885 - accuracy: 0.3425 - val_loss: 1.8769 - val_accuracy: 0.2450\n",
      "Epoch 8/10\n",
      "25/25 [==============================] - 24s 955ms/step - loss: 1.7549 - accuracy: 0.3425 - val_loss: 1.8732 - val_accuracy: 0.2450\n",
      "Epoch 9/10\n",
      "25/25 [==============================] - 25s 1s/step - loss: 1.7367 - accuracy: 0.3438 - val_loss: 1.8736 - val_accuracy: 0.2450\n",
      "Epoch 10/10\n",
      "25/25 [==============================] - 25s 998ms/step - loss: 1.7264 - accuracy: 0.3425 - val_loss: 1.8678 - val_accuracy: 0.2450\n"
     ]
    },
    {
     "data": {
      "text/plain": [
       "<keras.callbacks.History at 0x172641400>"
      ]
     },
     "execution_count": 6,
     "metadata": {},
     "output_type": "execute_result"
    }
   ],
   "source": [
    "\n",
    "model.compile(loss='sparse_categorical_crossentropy', optimizer=\"adam\", metrics=['accuracy'])\n",
    "history = model.fit(X_train, y_train, epochs=10, batch_size=32, validation_split=0.2, verbose=1)"
   ]
  },
  {
   "cell_type": "code",
   "execution_count": 9,
   "metadata": {},
   "outputs": [
    {
     "ename": "NameError",
     "evalue": "name 'history' is not defined",
     "output_type": "error",
     "traceback": [
      "\u001b[0;31m---------------------------------------------------------------------------\u001b[0m",
      "\u001b[0;31mNameError\u001b[0m                                 Traceback (most recent call last)",
      "Cell \u001b[0;32mIn[9], line 2\u001b[0m\n\u001b[1;32m      1\u001b[0m \u001b[39m# Evaluate the model\u001b[39;00m\n\u001b[0;32m----> 2\u001b[0m plt\u001b[39m.\u001b[39mplot(history\u001b[39m.\u001b[39mhistory[\u001b[39m'\u001b[39m\u001b[39maccuracy\u001b[39m\u001b[39m'\u001b[39m], label\u001b[39m=\u001b[39m\u001b[39m'\u001b[39m\u001b[39maccuracy\u001b[39m\u001b[39m'\u001b[39m)\n\u001b[1;32m      3\u001b[0m plt\u001b[39m.\u001b[39mplot(history\u001b[39m.\u001b[39mhistory[\u001b[39m'\u001b[39m\u001b[39mval_accuracy\u001b[39m\u001b[39m'\u001b[39m], label \u001b[39m=\u001b[39m \u001b[39m'\u001b[39m\u001b[39mval_accuracy\u001b[39m\u001b[39m'\u001b[39m)\n\u001b[1;32m      4\u001b[0m plt\u001b[39m.\u001b[39mxlabel(\u001b[39m'\u001b[39m\u001b[39mEpoch\u001b[39m\u001b[39m'\u001b[39m)\n",
      "\u001b[0;31mNameError\u001b[0m: name 'history' is not defined"
     ]
    }
   ],
   "source": [
    "# Evaluate the model\n",
    "plt.plot(history.history['accuracy'], label='accuracy')\n",
    "plt.plot(history.history['val_accuracy'], label = 'val_accuracy')\n",
    "plt.xlabel('Epoch')\n",
    "plt.ylabel('Accuracy')\n",
    "plt.ylim([0.5, 1])\n",
    "plt.legend(loc='lower right')\n",
    "\n",
    "test_loss, test_acc = model.evaluate(test_images,  test_labels, verbose=2)\n",
    "\n",
    "# Sgow the test accuracy\n",
    "print(test_acc)"
   ]
  },
  {
   "cell_type": "code",
   "execution_count": 10,
   "metadata": {},
   "outputs": [
    {
     "name": "stdout",
     "output_type": "stream",
     "text": [
      "32/32 [==============================] - 7s 190ms/step\n",
      "(1000, 227, 227)\n",
      "(1000, 8)\n",
      "(1000,)\n"
     ]
    }
   ],
   "source": [
    "y_pred_prob = model.predict(X_train)\n",
    "y_pred_class = y_pred_prob.argmax(axis=-1)\n",
    "print(X_train.shape)\n",
    "print(y_pred_prob.shape)\n",
    "print(y_pred_class.shape)"
   ]
  },
  {
   "cell_type": "code",
   "execution_count": 17,
   "metadata": {},
   "outputs": [
    {
     "name": "stdout",
     "output_type": "stream",
     "text": [
      "[0. 1. 2. 3. 4. 5. 6. 7.] [323 277  58  89  91   6 102  54]\n"
     ]
    }
   ],
   "source": [
    "unique, counts = np.unique(y_train, return_counts=True)\n",
    "print(unique, counts)"
   ]
  },
  {
   "attachments": {},
   "cell_type": "markdown",
   "metadata": {},
   "source": [
    "# sklearn random serach function for a neural network\n",
    "param_grid = {\"optimizer\": [\"adam\", \"sgd\", \"rmsprop\"],\n",
    "              \"learning_rate\": [0.001, 0.01, 0.1],\n",
    "              \"momentum\": [0.0, 0.2, 0.4, 0.6, 0.8, 0.9],\n",
    "              \"epochs\": [10, 20, 30, 40, 50],\n",
    "              \"batch_size\": [32, 64, 128, 256],\n",
    "            \"loss\": [\"categorical_crossentropy\", \"sparse_categorical_crossentropy\"],\n",
    "\n",
    "            \n",
    "              #\"early_stopping\": = EarlyStopping(monitor='val_loss', patience=2)\n",
    "              # \"activation\": [\"relu\", \"sigmoid\", \"tanh\"],\n",
    "              # \"dropout_rate\": [0.0, 0.1, 0.2, 0.3, 0.4, 0.5],\n",
    "              # \"weight_constraint\": [1, 2, 3, 4, 5],\n",
    "              # \"neurons\": [1, 5, 10, 15, 20, 25, 30]\n",
    "              }\n",
    "\n",
    "def random_search(X_train, y_train, X_test, y_test, param_grid, n_iter_search=20, n_jobs=-1, cv=3, verbose=1, random_state=1): \n",
    "    # create a random search object\n",
    "    random_search = RandomizedSearchCV(estimator=model_alex,\n",
    "                                        param_distributions=param_grid,\n",
    "                                        n_iter=n_iter_search,\n",
    "                                        n_jobs=n_jobs,\n",
    "                                        cv=cv,\n",
    "                                        verbose=0,\n",
    "                                        random_state=random_state)\n",
    "    # fit the random search model\n",
    "    random_search.fit(X_train, y_train)\n",
    "    # print results\n",
    "    print(\"Best Score: \", random_search.best_score_)\n",
    "    print(\"Best Params: \", random_search.best_params_)\n",
    "    # evaluate the model on test data\n",
    "    print(\"Test Accuracy: \", random_search.score(X_test, y_test))\n",
    "    return random_search\n",
    "\n",
    "random_search(X_t_A_A, y_t_A_A, X_test, y_test, param_grid)"
   ]
  }
 ],
 "metadata": {
  "kernelspec": {
   "display_name": ".venv",
   "language": "python",
   "name": "python3"
  },
  "language_info": {
   "codemirror_mode": {
    "name": "ipython",
    "version": 3
   },
   "file_extension": ".py",
   "mimetype": "text/x-python",
   "name": "python",
   "nbconvert_exporter": "python",
   "pygments_lexer": "ipython3",
   "version": "3.8.2"
  },
  "orig_nbformat": 4
 },
 "nbformat": 4,
 "nbformat_minor": 2
}
